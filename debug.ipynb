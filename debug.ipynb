{
 "cells": [
  {
   "cell_type": "code",
   "execution_count": 25,
   "metadata": {},
   "outputs": [],
   "source": [
    "from dotenv import load_dotenv\n",
    "import os\n",
    "from notion_utils import *\n",
    "from openai_chat import *\n",
    "\n",
    "load_dotenv()\n",
    "\n",
    "OPENAI_API_KEY = os.getenv(\"OPENAI_API_KEY\")\n",
    "Notion_API_Key = os.getenv(\"NOTION_TOKEN\")\n",
    "Input_Database_Id = os.getenv(\"NOTION_DB_INPUT\")\n",
    "Output_Database_Id = os.getenv(\"NOTION_DB_OUTPUT\")\n",
    "\n",
    "client = OpenAI(api_key=OPENAI_API_KEY)"
   ]
  },
  {
   "cell_type": "code",
   "execution_count": 26,
   "metadata": {},
   "outputs": [
    {
     "name": "stdout",
     "output_type": "stream",
     "text": [
      "予期せぬエラー: list index out of range\n",
      "Empty DataFrame\n",
      "Columns: []\n",
      "Index: []\n"
     ]
    }
   ],
   "source": [
    "result = get_database_items_id(Notion_API_Key, Input_Database_Id, 7)\n",
    "print(result)\n"
   ]
  },
  {
   "cell_type": "code",
   "execution_count": 27,
   "metadata": {},
   "outputs": [
    {
     "name": "stdout",
     "output_type": "stream",
     "text": [
      "予期せぬエラー: list index out of range\n"
     ]
    },
    {
     "data": {
      "text/html": [
       "<div>\n",
       "<style scoped>\n",
       "    .dataframe tbody tr th:only-of-type {\n",
       "        vertical-align: middle;\n",
       "    }\n",
       "\n",
       "    .dataframe tbody tr th {\n",
       "        vertical-align: top;\n",
       "    }\n",
       "\n",
       "    .dataframe thead th {\n",
       "        text-align: right;\n",
       "    }\n",
       "</style>\n",
       "<table border=\"1\" class=\"dataframe\">\n",
       "  <thead>\n",
       "    <tr style=\"text-align: right;\">\n",
       "      <th></th>\n",
       "    </tr>\n",
       "  </thead>\n",
       "  <tbody>\n",
       "  </tbody>\n",
       "</table>\n",
       "</div>"
      ],
      "text/plain": [
       "Empty DataFrame\n",
       "Columns: []\n",
       "Index: []"
      ]
     },
     "execution_count": 27,
     "metadata": {},
     "output_type": "execute_result"
    }
   ],
   "source": [
    "def get_database_items_id_test(Notion_API_Key, Database_Id, X_Days_Ago=None):\n",
    "\n",
    "\n",
    "    # ヘッダーを設定\n",
    "    headers = {\n",
    "        \"Authorization\": f\"Bearer {Notion_API_Key}\",\n",
    "        \"Content-Type\": \"application/json\",\n",
    "        \"Notion-Version\": \"2022-06-28\"\n",
    "    }\n",
    "\n",
    "    try:\n",
    "        # データベースをクエリするリクエスト\n",
    "        response = requests.post(\n",
    "            f\"https://api.notion.com/v1/databases/{Database_Id}/query\",\n",
    "            headers=headers\n",
    "        )\n",
    "        \n",
    "        # レスポンスを取得\n",
    "        response.raise_for_status()  # エラーチェック\n",
    "        data = response.json()\n",
    "        \n",
    "        # 各ページの情報を辞書に追加\n",
    "        results = data.get('results', [])  \n",
    "        if not results:\n",
    "            print(\"データベースにページが存在しません\")\n",
    "            return pd.DataFrame()\n",
    "        else:\n",
    "            # 複数のページの情報を格納するためにリストを使用\n",
    "            pages = []\n",
    "            \n",
    "            for result in results:\n",
    "                \n",
    "                page_info = {\n",
    "                    'title': result.get('properties').get('Title').get('title')[0].get('plain_text'),\n",
    "                    'page_id': result.get('id'),\n",
    "                    'created_time': result.get('created_time')\n",
    "                }\n",
    "                pages.append(page_info)\n",
    "\n",
    "    except requests.exceptions.RequestException as e:\n",
    "        print(f\"データベースID取得：APIリクエストエラー: {e}\")\n",
    "        return pd.DataFrame()\n",
    "    except Exception as e:\n",
    "        print(f\"予期せぬエラー: {e}\")\n",
    "        return pd.DataFrame()\n",
    "\n",
    "    # DataFrameを作成\n",
    "    df = pd.DataFrame(pages)\n",
    "\n",
    "    # 日付でフィルタリング\n",
    "    if X_Days_Ago is not None:\n",
    "        current_date = pd.Timestamp.now(tz='UTC')\n",
    "        x_days_ago = current_date - pd.Timedelta(days=X_Days_Ago)\n",
    "        df = df[pd.to_datetime(df['created_time']).between(x_days_ago, current_date)]\n",
    "\n",
    "    return df\n",
    "\n",
    "get_database_items_id_test(Notion_API_Key, Input_Database_Id, 7)\n"
   ]
  },
  {
   "cell_type": "code",
   "execution_count": 28,
   "metadata": {},
   "outputs": [
    {
     "name": "stdout",
     "output_type": "stream",
     "text": [
      "予期せぬエラー: list index out of range\n",
      "取得したデータフレーム:\n",
      "Empty DataFrame\n",
      "Columns: []\n",
      "Index: []\n",
      "総行数: 0\n",
      "予期せぬエラー: list index out of range\n",
      "\n",
      "7日以内のデータ:\n",
      "Empty DataFrame\n",
      "Columns: []\n",
      "Index: []\n",
      "フィルタリング後の行数: 0\n",
      "データベースID取得：APIリクエストエラー: 401 Client Error: Unauthorized for url: https://api.notion.com/v1/databases/1e656d7a44ed80abb721ec55373d86e1/query\n",
      "データベースID取得：APIリクエストエラー: 400 Client Error: Bad Request for url: https://api.notion.com/v1/databases/invalid_db/query\n"
     ]
    }
   ],
   "source": [
    "def test_get_database_items_id():\n",
    "    \"\"\"get_database_items_id関数のテスト\"\"\"\n",
    "    load_dotenv()\n",
    "    notion_api_key = os.getenv(\"NOTION_TOKEN\")\n",
    "    database_id = os.getenv(\"NOTION_DB_INPUT\")\n",
    "    \n",
    "    # 基本機能テスト\n",
    "    df = get_database_items_id(notion_api_key, database_id)\n",
    "    print(\"取得したデータフレーム:\")\n",
    "    print(df.head())\n",
    "    print(f\"総行数: {len(df)}\")\n",
    "    \n",
    "    # 日付フィルタリングテスト\n",
    "    df_filtered = get_database_items_id(notion_api_key, database_id, X_Days_Ago=7)\n",
    "    print(\"\\n7日以内のデータ:\")\n",
    "    print(df_filtered.head())\n",
    "    print(f\"フィルタリング後の行数: {len(df_filtered)}\")\n",
    "    \n",
    "    # エラーケーステスト\n",
    "    df_error = get_database_items_id(\"invalid_key\", database_id)\n",
    "    assert df_error.empty, \"無効なAPIキーでもDataFrameが返される\"\n",
    "    \n",
    "    df_error = get_database_items_id(notion_api_key, \"invalid_db\")\n",
    "    assert df_error.empty, \"無効なデータベースIDでもDataFrameが返される\"\n",
    "\n",
    "if __name__ == \"__main__\":\n",
    "    test_get_database_items_id()"
   ]
  }
 ],
 "metadata": {
  "kernelspec": {
   "display_name": "Python 3",
   "language": "python",
   "name": "python3"
  },
  "language_info": {
   "codemirror_mode": {
    "name": "ipython",
    "version": 3
   },
   "file_extension": ".py",
   "mimetype": "text/x-python",
   "name": "python",
   "nbconvert_exporter": "python",
   "pygments_lexer": "ipython3",
   "version": "3.12.3"
  }
 },
 "nbformat": 4,
 "nbformat_minor": 2
}
