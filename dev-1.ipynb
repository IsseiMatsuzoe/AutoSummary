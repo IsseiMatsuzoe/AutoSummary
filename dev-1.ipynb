{
 "cells": [
  {
   "cell_type": "markdown",
   "metadata": {},
   "source": [
    "# 開発用ノートブック1"
   ]
  },
  {
   "cell_type": "code",
   "execution_count": 69,
   "metadata": {},
   "outputs": [],
   "source": [
    "import pandas as pd\n",
    "import requests\n",
    "import os\n",
    "from dotenv import load_dotenv"
   ]
  },
  {
   "cell_type": "markdown",
   "metadata": {},
   "source": [
    "必要な機能は\n",
    "- notionDBからテキストを取得\n",
    "- テキストをopenAIへ送信、返信を受け取る\n",
    "- 受け取ったテキストをnotionDBに保存\n",
    "\n",
    "*大きく分けて二つのサービスをAPIを通じて接続する。まずはローカルで実行できる形にする。*\n",
    "## notion関連\n",
    "テキストの取得"
   ]
  },
  {
   "cell_type": "code",
   "execution_count": 70,
   "metadata": {},
   "outputs": [
    {
     "name": "stdout",
     "output_type": "stream",
     "text": [
      "Page ID: 1d256d7a-44ed-8051-82d6-dec635dd92b9\n",
      "Page ID: 1d256d7a-44ed-808d-b487-f86440f9308a\n",
      "Page ID: 1d256d7a-44ed-80bb-80d5-e4f7e382c737\n",
      "Page ID: 1d256d7a-44ed-8091-b45a-d688cb43c460\n",
      "Page ID: 1d256d7a-44ed-8015-9993-f5b50b94e6ca\n",
      "Page ID: 1cb56d7a-44ed-80ab-acfc-d2ec7e52976e\n",
      "Page ID: 1c956d7a-44ed-80b2-a183-e00f465afb3f\n"
     ]
    }
   ],
   "source": [
    "\n",
    "# .envファイルから環境変数を読み込む\n",
    "load_dotenv()\n",
    "\n",
    "# Notion API\n",
    "notion_api_key = os.getenv(\"NOTION_TOKEN\")\n",
    "notion_db_input_id = os.getenv(\"NOTION_DB_INPUT\")\n",
    "\n",
    "if not notion_api_key or not notion_db_input_id:\n",
    "    raise ValueError(\"環境変数 NOTION_TOKEN または NOTION_DB_INPUT が設定されていません\")\n",
    "\n",
    "# config header\n",
    "headers = {\n",
    "    \"Authorization\": f\"Bearer {notion_api_key}\",\n",
    "    \"Content-Type\": \"application/json\",\n",
    "    \"Notion-Version\": \"2022-06-28\"\n",
    "}\n",
    "\n",
    "try:\n",
    "    # データベースをクエリするリクエスト\n",
    "    response = requests.post(\n",
    "        f\"https://api.notion.com/v1/databases/{notion_db_input_id}/query\",\n",
    "        headers=headers\n",
    "    )\n",
    "    \n",
    "    # レスポンスを取得\n",
    "    response.raise_for_status()  # エラーチェック\n",
    "    data = response.json()\n",
    "    \n",
    "    # 各ページのIDを取得\n",
    "    results = data.get('results', [])  \n",
    "    if not results:\n",
    "        print(\"データベースにページが存在しません\")\n",
    "    else:\n",
    "        for result in results:\n",
    "            page_id = result.get('id')\n",
    "            print(f\"Page ID: {page_id}\")\n",
    "\n",
    "except requests.exceptions.RequestException as e:\n",
    "    print(f\"APIリクエストエラー: {e}\")\n",
    "except Exception as e:\n",
    "    print(f\"予期せぬエラー: {e}\")"
   ]
  },
  {
   "cell_type": "code",
   "execution_count": 71,
   "metadata": {},
   "outputs": [
    {
     "name": "stdout",
     "output_type": "stream",
     "text": [
      "進捗レポート\n"
     ]
    }
   ],
   "source": [
    "print(result.get('properties').get('タイトル'))"
   ]
  },
  {
   "cell_type": "code",
   "execution_count": 81,
   "metadata": {},
   "outputs": [],
   "source": [
    "def Get_Database_Items_Id(Notion_API_Key, Database_Id, X_Days_Ago=None):\n",
    "\n",
    "\n",
    "    # ヘッダーを設定\n",
    "    headers = {\n",
    "        \"Authorization\": f\"Bearer {Notion_API_Key}\",\n",
    "        \"Content-Type\": \"application/json\",\n",
    "        \"Notion-Version\": \"2022-06-28\"\n",
    "    }\n",
    "\n",
    "    try:\n",
    "        # データベースをクエリするリクエスト\n",
    "        response = requests.post(\n",
    "            f\"https://api.notion.com/v1/databases/{Database_Id}/query\",\n",
    "            headers=headers\n",
    "        )\n",
    "        \n",
    "        # レスポンスを取得\n",
    "        response.raise_for_status()  # エラーチェック\n",
    "        data = response.json()\n",
    "        \n",
    "        # 各ページの情報を辞書に追加\n",
    "        results = data.get('results', [])  \n",
    "        if not results:\n",
    "            print(\"データベースにページが存在しません\")\n",
    "            return pd.DataFrame()\n",
    "        else:\n",
    "            # 複数のページの情報を格納するためにリストを使用\n",
    "            pages = []\n",
    "            \n",
    "            for result in results:\n",
    "                \n",
    "                page_info = {\n",
    "                    'title': result.get('properties').get('タイトル').get('title')[0].get('plain_text'),\n",
    "                    'page_id': result.get('id'),\n",
    "                    'created_time': result.get('created_time')\n",
    "                }\n",
    "                pages.append(page_info)\n",
    "\n",
    "    except requests.exceptions.RequestException as e:\n",
    "        print(f\"APIリクエストエラー: {e}\")\n",
    "        return pd.DataFrame()\n",
    "    except Exception as e:\n",
    "        print(f\"予期せぬエラー: {e}\")\n",
    "        return pd.DataFrame()\n",
    "\n",
    "    # DataFrameを作成\n",
    "    df = pd.DataFrame(pages)\n",
    "\n",
    "    # 日付でフィルタリング\n",
    "    if X_Days_Ago is not None:\n",
    "        current_date = pd.Timestamp.now(tz='UTC')\n",
    "        x_days_ago = current_date - pd.Timedelta(days=X_Days_Ago)\n",
    "        df = df[pd.to_datetime(df['created_time']).between(x_days_ago, current_date)]\n",
    "\n",
    "    return df"
   ]
  },
  {
   "cell_type": "code",
   "execution_count": 92,
   "metadata": {},
   "outputs": [
    {
     "data": {
      "text/html": [
       "<div>\n",
       "<style scoped>\n",
       "    .dataframe tbody tr th:only-of-type {\n",
       "        vertical-align: middle;\n",
       "    }\n",
       "\n",
       "    .dataframe tbody tr th {\n",
       "        vertical-align: top;\n",
       "    }\n",
       "\n",
       "    .dataframe thead th {\n",
       "        text-align: right;\n",
       "    }\n",
       "</style>\n",
       "<table border=\"1\" class=\"dataframe\">\n",
       "  <thead>\n",
       "    <tr style=\"text-align: right;\">\n",
       "      <th></th>\n",
       "      <th>title</th>\n",
       "      <th>page_id</th>\n",
       "      <th>created_time</th>\n",
       "    </tr>\n",
       "  </thead>\n",
       "  <tbody>\n",
       "    <tr>\n",
       "      <th>0</th>\n",
       "      <td>進捗レポート</td>\n",
       "      <td>1d256d7a-44ed-8051-82d6-dec635dd92b9</td>\n",
       "      <td>2025-04-11T04:12:00.000Z</td>\n",
       "    </tr>\n",
       "    <tr>\n",
       "      <th>1</th>\n",
       "      <td>進捗レポート</td>\n",
       "      <td>1d256d7a-44ed-808d-b487-f86440f9308a</td>\n",
       "      <td>2025-04-11T04:10:00.000Z</td>\n",
       "    </tr>\n",
       "    <tr>\n",
       "      <th>2</th>\n",
       "      <td>進捗レポート</td>\n",
       "      <td>1d256d7a-44ed-80bb-80d5-e4f7e382c737</td>\n",
       "      <td>2025-04-11T04:10:00.000Z</td>\n",
       "    </tr>\n",
       "    <tr>\n",
       "      <th>3</th>\n",
       "      <td>進捗レポート</td>\n",
       "      <td>1d256d7a-44ed-8091-b45a-d688cb43c460</td>\n",
       "      <td>2025-04-11T04:09:00.000Z</td>\n",
       "    </tr>\n",
       "    <tr>\n",
       "      <th>4</th>\n",
       "      <td>進捗レポート</td>\n",
       "      <td>1d256d7a-44ed-8015-9993-f5b50b94e6ca</td>\n",
       "      <td>2025-04-11T04:06:00.000Z</td>\n",
       "    </tr>\n",
       "  </tbody>\n",
       "</table>\n",
       "</div>"
      ],
      "text/plain": [
       "     title                               page_id              created_time\n",
       "0   進捗レポート  1d256d7a-44ed-8051-82d6-dec635dd92b9  2025-04-11T04:12:00.000Z\n",
       "1   進捗レポート  1d256d7a-44ed-808d-b487-f86440f9308a  2025-04-11T04:10:00.000Z\n",
       "2   進捗レポート  1d256d7a-44ed-80bb-80d5-e4f7e382c737  2025-04-11T04:10:00.000Z\n",
       "3   進捗レポート  1d256d7a-44ed-8091-b45a-d688cb43c460  2025-04-11T04:09:00.000Z\n",
       "4  進捗レポート   1d256d7a-44ed-8015-9993-f5b50b94e6ca  2025-04-11T04:06:00.000Z"
      ]
     },
     "metadata": {},
     "output_type": "display_data"
    }
   ],
   "source": [
    "from notion_utils import Get_Database_Items_Id_test\n",
    "content = Get_Database_Items_Id_test(notion_api_key, notion_db_input_id, 6)\n",
    "display(content)"
   ]
  }
 ],
 "metadata": {
  "kernelspec": {
   "display_name": "Python 3",
   "language": "python",
   "name": "python3"
  },
  "language_info": {
   "codemirror_mode": {
    "name": "ipython",
    "version": 3
   },
   "file_extension": ".py",
   "mimetype": "text/x-python",
   "name": "python",
   "nbconvert_exporter": "python",
   "pygments_lexer": "ipython3",
   "version": "3.12.3"
  }
 },
 "nbformat": 4,
 "nbformat_minor": 2
}
