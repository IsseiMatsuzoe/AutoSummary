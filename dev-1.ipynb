{
 "cells": [
  {
   "cell_type": "markdown",
   "metadata": {},
   "source": [
    "# 開発用ノートブック1"
   ]
  },
  {
   "cell_type": "markdown",
   "metadata": {},
   "source": [
    "必要な機能は\n",
    "- notionDBからテキストを取得\n",
    "- テキストをopenAIへ送信、返信を受け取る\n",
    "- 受け取ったテキストをnotionDBに保存\n",
    "\n",
    "*大きく分けて二つのサービスをAPIを通じて接続する。まずはローカルで実行できる形にする。*\n",
    "## notion関連\n",
    "テキストの取得"
   ]
  },
  {
   "cell_type": "code",
   "execution_count": null,
   "metadata": {
    "vscode": {
     "languageId": "plaintext"
    }
   },
   "outputs": [],
   "source": []
  }
 ],
 "metadata": {
  "language_info": {
   "name": "python"
  }
 },
 "nbformat": 4,
 "nbformat_minor": 2
}
